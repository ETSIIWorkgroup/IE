{
 "cells": [
  {
   "cell_type": "markdown",
   "metadata": {},
   "source": [
    "# 1. Recetas simples de Python\n",
    "**Autor:** José A. Troyano &nbsp;&nbsp;&nbsp; **Revisado por:** Beatriz Pontes   &nbsp;&nbsp;&nbsp; **Última modificación:** 20/02/2022"
   ]
  },
  {
   "cell_type": "markdown",
   "metadata": {},
   "source": [
    "## Funciones"
   ]
  },
  {
   "cell_type": "code",
   "execution_count": 1,
   "metadata": {},
   "outputs": [],
   "source": [
    "# Definición de la función doble, que devuelve el parámetro recibido multiplicado por 2 \n",
    "def doble(x):\n",
    "    return x*2"
   ]
  },
  {
   "cell_type": "code",
   "execution_count": 2,
   "metadata": {},
   "outputs": [
    {
     "data": {
      "text/plain": [
       "4"
      ]
     },
     "execution_count": 2,
     "metadata": {},
     "output_type": "execute_result"
    }
   ],
   "source": [
    "# Llamada a la función doble con el parámetro 2\n",
    "doble(2)"
   ]
  },
  {
   "cell_type": "code",
   "execution_count": 4,
   "metadata": {},
   "outputs": [
    {
     "data": {
      "text/plain": [
       "'HolaHola'"
      ]
     },
     "execution_count": 4,
     "metadata": {},
     "output_type": "execute_result"
    }
   ],
   "source": [
    "# Llamada a la función doble con el parámetro 'Hola '\n",
    "doble('Hola')"
   ]
  },
  {
   "cell_type": "code",
   "execution_count": 5,
   "metadata": {},
   "outputs": [
    {
     "data": {
      "text/plain": [
       "[1, 's', 'hola', 1, 's', 'hola']"
      ]
     },
     "execution_count": 5,
     "metadata": {},
     "output_type": "execute_result"
    }
   ],
   "source": [
    "# Llamada a la función doble con el parámetro [1, 's', 'hola']\n",
    "doble([1, 's', 'hola'])"
   ]
  },
  {
   "cell_type": "code",
   "execution_count": 38,
   "metadata": {},
   "outputs": [],
   "source": [
    "# Definición de la función doble_lista mediante iteración. La función recibe una lista como parámetro,\n",
    "# y devuelve otra lista en el que cada elemento de la lista original ha sido multiplicado por 2.\n",
    "def doble_lista(lista):\n",
    "    res = []\n",
    "    for i in range(len(lista)):\n",
    "        res.append(lista[i] * 2)\n",
    "    return res "
   ]
  },
  {
   "cell_type": "code",
   "execution_count": 39,
   "metadata": {},
   "outputs": [
    {
     "data": {
      "text/plain": [
       "[2, 8, 6]"
      ]
     },
     "execution_count": 39,
     "metadata": {},
     "output_type": "execute_result"
    }
   ],
   "source": [
    "# Llamada a la función doble_lista con el parámetro [1, 4, 3]\n",
    "doble_lista([1, 4, 3])"
   ]
  },
  {
   "cell_type": "code",
   "execution_count": 32,
   "metadata": {},
   "outputs": [],
   "source": [
    "# Definición de la funcion doble_lista mediante comprensión.\n",
    "def doble_lista_compr(lista):\n",
    "    res = [lista[i] * 2 for i in range(len(lista))]\n",
    "    return res"
   ]
  },
  {
   "cell_type": "code",
   "execution_count": 33,
   "metadata": {},
   "outputs": [
    {
     "data": {
      "text/plain": [
       "[2, 8, 6]"
      ]
     },
     "execution_count": 33,
     "metadata": {},
     "output_type": "execute_result"
    }
   ],
   "source": [
    "# Llamada a la función doble_lista mediante comprensión con el parámetro [1, 4, 3]\n",
    "doble_lista_compr([1, 4, 3])"
   ]
  },
  {
   "cell_type": "code",
   "execution_count": 50,
   "metadata": {},
   "outputs": [],
   "source": [
    "# Definición de la funcion aplica, que recibe los siguientes parámetros:\n",
    "#   - Una lista\n",
    "#   - Una función (por defecto tomará el valor doble)\n",
    "# La función aplica devuelve una lista en la que se ha aplicado la funcion a cada elemento de la lista original \n",
    "def aplica(lista, func=doble):\n",
    "    res = []\n",
    "    for i in lista:\n",
    "        res.append(func(i))\n",
    "    return res"
   ]
  },
  {
   "cell_type": "code",
   "execution_count": 51,
   "metadata": {},
   "outputs": [
    {
     "data": {
      "text/plain": [
       "[2, 8, 6]"
      ]
     },
     "execution_count": 51,
     "metadata": {},
     "output_type": "execute_result"
    }
   ],
   "source": [
    "# Llamada a la función aplica con los parámetros [1, 4, 3] y doble\n",
    "aplica([1, 4, 3], doble)"
   ]
  },
  {
   "cell_type": "code",
   "execution_count": 52,
   "metadata": {},
   "outputs": [
    {
     "data": {
      "text/plain": [
       "[2, 8, 6]"
      ]
     },
     "execution_count": 52,
     "metadata": {},
     "output_type": "execute_result"
    }
   ],
   "source": [
    "# Llamada a la función aplica usando la función por defecto doble\n",
    "aplica([1, 4, 3])"
   ]
  },
  {
   "cell_type": "code",
   "execution_count": 54,
   "metadata": {},
   "outputs": [],
   "source": [
    "# Definición de la función triple, que devuelve el parámetro recibido multiplicado por 3 \n",
    "def triple(x):\n",
    "    return x*3"
   ]
  },
  {
   "cell_type": "code",
   "execution_count": 55,
   "metadata": {},
   "outputs": [
    {
     "data": {
      "text/plain": [
       "[3, 12, 9]"
      ]
     },
     "execution_count": 55,
     "metadata": {},
     "output_type": "execute_result"
    }
   ],
   "source": [
    "# Llamada a la función aplica con los parámetros [1, 4, 3] y triple\n",
    "aplica([1, 4, 3], triple)"
   ]
  },
  {
   "cell_type": "code",
   "execution_count": 56,
   "metadata": {},
   "outputs": [
    {
     "data": {
      "text/plain": [
       "[3, 12, 9]"
      ]
     },
     "execution_count": 56,
     "metadata": {},
     "output_type": "execute_result"
    }
   ],
   "source": [
    "# Llamada a la función aplica con los parámetros:\n",
    "#   - [1, 4, 3]\n",
    "#   - una función lambda que multiplique el parámetro recibido por 3\n",
    "aplica([1, 4, 3], lambda x: x*3)"
   ]
  },
  {
   "cell_type": "markdown",
   "metadata": {},
   "source": [
    "## Secuencias"
   ]
  },
  {
   "cell_type": "code",
   "execution_count": 63,
   "metadata": {},
   "outputs": [],
   "source": [
    "# Creación la variable tupla, asignándole una tupla con los valores 1 y 'b'\n",
    "tupla = (1, 'b')"
   ]
  },
  {
   "cell_type": "code",
   "execution_count": 59,
   "metadata": {},
   "outputs": [
    {
     "data": {
      "text/plain": [
       "'b'"
      ]
     },
     "execution_count": 59,
     "metadata": {},
     "output_type": "execute_result"
    }
   ],
   "source": [
    "# Acceso al segundo componente de la variable tupla\n",
    "tupla[1]"
   ]
  },
  {
   "cell_type": "code",
   "execution_count": 65,
   "metadata": {},
   "outputs": [
    {
     "name": "stdout",
     "output_type": "stream",
     "text": [
      "1 b\n"
     ]
    }
   ],
   "source": [
    "# Extracción de los componetes de tupla en las dos variables x e y\n",
    "x=tupla[0]; y=tupla[1]\n",
    "print(x, y)"
   ]
  },
  {
   "cell_type": "code",
   "execution_count": 4,
   "metadata": {},
   "outputs": [],
   "source": [
    "# Creación la variable lista, asignándole una lista con los valores 10, 20, 30 y 'a'\n",
    "lista = [10, 20, 30, 'a']"
   ]
  },
  {
   "cell_type": "code",
   "execution_count": 67,
   "metadata": {},
   "outputs": [
    {
     "data": {
      "text/plain": [
       "4"
      ]
     },
     "execution_count": 67,
     "metadata": {},
     "output_type": "execute_result"
    }
   ],
   "source": [
    "# Cálculo de la longitud de lista\n",
    "len(lista)"
   ]
  },
  {
   "cell_type": "code",
   "execution_count": 10,
   "metadata": {},
   "outputs": [
    {
     "name": "stdout",
     "output_type": "stream",
     "text": [
      "10\n",
      "[20, 30]\n",
      "[20, 30, 'a']\n",
      "a\n"
     ]
    }
   ],
   "source": [
    "# Acceso a los siguentes componentes de la variable lista:\n",
    "# - Primer elemento\n",
    "# - Lista con el segundo y tercer elemento\n",
    "# - Lista con todos los elementos menos el primero\n",
    "# - Lista con los tres primeros elementos\n",
    "# - Último elemento\n",
    "print(lista[0])\n",
    "print(lista[1:3])\n",
    "print(lista[1:])\n",
    "print(lista[-1])"
   ]
  },
  {
   "cell_type": "code",
   "execution_count": 1,
   "metadata": {},
   "outputs": [],
   "source": [
    "#  Creación la variable lista_tuplas, con los elementos (1, 'a') y (2, 'b')\n",
    "lista_tuplas = [(1, 'a'), (2, 'b')]"
   ]
  },
  {
   "cell_type": "code",
   "execution_count": 6,
   "metadata": {},
   "outputs": [
    {
     "data": {
      "text/plain": [
       "['1a', '2b']"
      ]
     },
     "execution_count": 6,
     "metadata": {},
     "output_type": "execute_result"
    }
   ],
   "source": [
    "# Recorrido por comprensión de la variabe lista_tuplas dando como resultado ['1a', '2b']\n",
    "[str(i) + str(j) for (i,j) in lista_tuplas]"
   ]
  },
  {
   "cell_type": "code",
   "execution_count": 15,
   "metadata": {},
   "outputs": [
    {
     "data": {
      "text/plain": [
       "range(0, 10)"
      ]
     },
     "execution_count": 15,
     "metadata": {},
     "output_type": "execute_result"
    }
   ],
   "source": [
    "# Creación de un rango de valores de 0 a 9\n",
    "range(10)"
   ]
  },
  {
   "cell_type": "code",
   "execution_count": 14,
   "metadata": {},
   "outputs": [
    {
     "data": {
      "text/plain": [
       "[0, 1, 2, 3, 4, 5, 6, 7, 8, 9]"
      ]
     },
     "execution_count": 14,
     "metadata": {},
     "output_type": "execute_result"
    }
   ],
   "source": [
    "# Creación de una lista a partir de un rango de valores de 0 a 9\n",
    "[i for i in range(10)]"
   ]
  },
  {
   "cell_type": "code",
   "execution_count": 16,
   "metadata": {},
   "outputs": [
    {
     "data": {
      "text/plain": [
       "[0, 4, 8, 12, 16]"
      ]
     },
     "execution_count": 16,
     "metadata": {},
     "output_type": "execute_result"
    }
   ],
   "source": [
    "# Creación, por comprensión, de una lista de números pares multiplicando por 2 los valores de un rango de 0 a 9\n",
    "[i*2 for i in range(10) if i % 2 == 0]"
   ]
  },
  {
   "cell_type": "markdown",
   "metadata": {},
   "source": [
    "## Diccionarios"
   ]
  },
  {
   "cell_type": "code",
   "execution_count": 18,
   "metadata": {},
   "outputs": [],
   "source": [
    "# Creación de la variable dicc que contiene un diccionario con las claves 'a' y 'b', y los respectivos valores 20 y 2\n",
    "dicc = {'a':20, 'b':2}"
   ]
  },
  {
   "cell_type": "code",
   "execution_count": 20,
   "metadata": {},
   "outputs": [
    {
     "data": {
      "text/plain": [
       "20"
      ]
     },
     "execution_count": 20,
     "metadata": {},
     "output_type": "execute_result"
    }
   ],
   "source": [
    "# Acceso al valor asociado a la clave 'a' en dicc\n",
    "dicc['a']"
   ]
  },
  {
   "cell_type": "code",
   "execution_count": 23,
   "metadata": {},
   "outputs": [
    {
     "name": "stdout",
     "output_type": "stream",
     "text": [
      "{'a': 20}\n"
     ]
    }
   ],
   "source": [
    "# Eliminación de la entrada en dicc correspondiente a la clave 'b'\n",
    "dicc.pop('b')\n",
    "print(dicc)"
   ]
  },
  {
   "cell_type": "code",
   "execution_count": 25,
   "metadata": {},
   "outputs": [
    {
     "name": "stdout",
     "output_type": "stream",
     "text": [
      "{'a': 20, 'c': 10}\n"
     ]
    }
   ],
   "source": [
    "# Creación de una entrada en dicc con la clave 'c' y el valor 10\n",
    "dicc.update({'c':10})\n",
    "print(dicc)"
   ]
  },
  {
   "cell_type": "code",
   "execution_count": 28,
   "metadata": {},
   "outputs": [
    {
     "ename": "KeyError",
     "evalue": "'d'",
     "output_type": "error",
     "traceback": [
      "\u001b[0;31m---------------------------------------------------------------------------\u001b[0m",
      "\u001b[0;31mKeyError\u001b[0m                                  Traceback (most recent call last)",
      "\u001b[0;32m<ipython-input-28-1bf015a69084>\u001b[0m in \u001b[0;36m<module>\u001b[0;34m()\u001b[0m\n\u001b[1;32m      1\u001b[0m \u001b[0;31m# Intento de acceso a la clave inexistente 'd' en dicc\u001b[0m\u001b[0;34m\u001b[0m\u001b[0;34m\u001b[0m\u001b[0;34m\u001b[0m\u001b[0m\n\u001b[0;32m----> 2\u001b[0;31m \u001b[0mdicc\u001b[0m\u001b[0;34m[\u001b[0m\u001b[0;34m'd'\u001b[0m\u001b[0;34m]\u001b[0m\u001b[0;34m\u001b[0m\u001b[0;34m\u001b[0m\u001b[0m\n\u001b[0m",
      "\u001b[0;31mKeyError\u001b[0m: 'd'"
     ]
    }
   ],
   "source": [
    "# Intento de acceso a la clave inexistente 'd' en dicc\n",
    "dicc['d']"
   ]
  },
  {
   "cell_type": "code",
   "execution_count": 30,
   "metadata": {},
   "outputs": [
    {
     "name": "stdout",
     "output_type": "stream",
     "text": [
      "{'a': 20, 'c': 10}\n"
     ]
    }
   ],
   "source": [
    "# Acceso seguro a la clave inexistente 'd' en dicc mediante el método get\n",
    "dicc.get('d')\n",
    "print(dicc)"
   ]
  },
  {
   "cell_type": "code",
   "execution_count": 38,
   "metadata": {},
   "outputs": [
    {
     "name": "stdout",
     "output_type": "stream",
     "text": [
      "a\n",
      "c\n",
      "###################\n",
      "20\n",
      "10\n",
      "###################\n",
      "a\n",
      "c\n"
     ]
    }
   ],
   "source": [
    "# Acceso iterativo a todos los elementos de dicc\n",
    "for i in dicc.keys():\n",
    "    print(i)\n",
    "\n",
    "print('###################')\n",
    "\n",
    "for j in dicc.values():\n",
    "    print(j)\n",
    "    \n",
    "print('###################')\n",
    "\n",
    "for t in dicc:\n",
    "    print(t)"
   ]
  },
  {
   "cell_type": "code",
   "execution_count": 39,
   "metadata": {},
   "outputs": [
    {
     "data": {
      "text/plain": [
       "{0: 0, 1: 2, 2: 4, 3: 6, 4: 8, 5: 10}"
      ]
     },
     "execution_count": 39,
     "metadata": {},
     "output_type": "execute_result"
    }
   ],
   "source": [
    "# Creación de un diccionario por comprensión:\n",
    "#  - Las claves son los números del 0 al 5\n",
    "#  - Los valores son el doble de cada clave\n",
    "{i:i*2 for i in range(6)}"
   ]
  },
  {
   "cell_type": "code",
   "execution_count": null,
   "metadata": {},
   "outputs": [],
   "source": [
    "# FIN"
   ]
  }
 ],
 "metadata": {
  "kernelspec": {
   "display_name": "Python 3",
   "language": "python",
   "name": "python3"
  },
  "language_info": {
   "codemirror_mode": {
    "name": "ipython",
    "version": 3
   },
   "file_extension": ".py",
   "mimetype": "text/x-python",
   "name": "python",
   "nbconvert_exporter": "python",
   "pygments_lexer": "ipython3",
   "version": "3.8.5"
  }
 },
 "nbformat": 4,
 "nbformat_minor": 4
}
