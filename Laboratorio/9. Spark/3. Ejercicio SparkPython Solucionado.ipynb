{
 "cells": [
  {
   "cell_type": "markdown",
   "metadata": {},
   "source": [
    "# Ejercicio con dataset de Star Wars"
   ]
  },
  {
   "cell_type": "markdown",
   "metadata": {},
   "source": [
    "## Inicialización del entorno"
   ]
  },
  {
   "cell_type": "code",
   "execution_count": 2,
   "metadata": {
    "tags": [
     "code"
    ]
   },
   "outputs": [
    {
     "name": "stderr",
     "output_type": "stream",
     "text": [
      "22/05/25 07:55:57 WARN Utils: Your hostname, fjortega-desktop resolves to a loopback address: 127.0.1.1; using 150.214.188.52 instead (on interface enp6s0)\n",
      "22/05/25 07:55:57 WARN Utils: Set SPARK_LOCAL_IP if you need to bind to another address\n",
      "WARNING: An illegal reflective access operation has occurred\n",
      "WARNING: Illegal reflective access by org.apache.spark.unsafe.Platform (file:/home/fjortega/anaconda3/lib/python3.8/site-packages/pyspark/jars/spark-unsafe_2.12-3.1.2.jar) to constructor java.nio.DirectByteBuffer(long,int)\n",
      "WARNING: Please consider reporting this to the maintainers of org.apache.spark.unsafe.Platform\n",
      "WARNING: Use --illegal-access=warn to enable warnings of further illegal reflective access operations\n",
      "WARNING: All illegal access operations will be denied in a future release\n",
      "22/05/25 07:55:57 WARN NativeCodeLoader: Unable to load native-hadoop library for your platform... using builtin-java classes where applicable\n",
      "Using Spark's default log4j profile: org/apache/spark/log4j-defaults.properties\n",
      "Setting default log level to \"WARN\".\n",
      "To adjust logging level use sc.setLogLevel(newLevel). For SparkR, use setLogLevel(newLevel).\n"
     ]
    }
   ],
   "source": [
    "from pyspark.sql import *\n",
    "\n",
    "spark = SparkSession.builder.master(\"local\").appName(\"NOMBRE\").getOrCreate()"
   ]
  },
  {
   "cell_type": "markdown",
   "metadata": {},
   "source": [
    "## Cargar los datos de un archivo CSV en un Dataframe"
   ]
  },
  {
   "cell_type": "code",
   "execution_count": 3,
   "metadata": {},
   "outputs": [
    {
     "name": "stdout",
     "output_type": "stream",
     "text": [
      "root\n",
      " |-- name: string (nullable = true)\n",
      " |-- height: string (nullable = true)\n",
      " |-- mass: string (nullable = true)\n",
      " |-- hair_color: string (nullable = true)\n",
      " |-- skin_color: string (nullable = true)\n",
      " |-- eye_color: string (nullable = true)\n",
      " |-- birth_year: string (nullable = true)\n",
      " |-- gender: string (nullable = true)\n",
      " |-- homeworld: string (nullable = true)\n",
      " |-- species: string (nullable = true)\n",
      "\n",
      "+--------------------+------+-----+-------------+----------------+---------+----------+-------------+----------+--------------+\n",
      "|                name|height| mass|   hair_color|      skin_color|eye_color|birth_year|       gender| homeworld|       species|\n",
      "+--------------------+------+-----+-------------+----------------+---------+----------+-------------+----------+--------------+\n",
      "|      Luke Skywalker|   172|   77|        blond|            fair|     blue|     19BBY|         male|  Tatooine|         Human|\n",
      "|               C-3PO|   167|   75|           NA|            gold|   yellow|    112BBY|           NA|  Tatooine|         Droid|\n",
      "|               R2-D2|    96|   32|           NA|     white, blue|      red|     33BBY|           NA|     Naboo|         Droid|\n",
      "|         Darth Vader|   202|  136|         none|           white|   yellow|   41.9BBY|         male|  Tatooine|         Human|\n",
      "|         Leia Organa|   150|   49|        brown|           light|    brown|     19BBY|       female|  Alderaan|         Human|\n",
      "|           Owen Lars|   178|  120|  brown, grey|           light|     blue|     52BBY|         male|  Tatooine|         Human|\n",
      "|  Beru Whitesun lars|   165|   75|        brown|           light|     blue|     47BBY|       female|  Tatooine|         Human|\n",
      "|               R5-D4|    97|   32|           NA|      white, red|      red|        NA|           NA|  Tatooine|         Droid|\n",
      "|   Biggs Darklighter|   183|   84|        black|           light|    brown|     24BBY|         male|  Tatooine|         Human|\n",
      "|      Obi-Wan Kenobi|   182|   77|auburn, white|            fair|blue-gray|     57BBY|         male|   Stewjon|         Human|\n",
      "|    Anakin Skywalker|   188|   84|        blond|            fair|     blue|   41.9BBY|         male|  Tatooine|         Human|\n",
      "|      Wilhuff Tarkin|   180|   NA| auburn, grey|            fair|     blue|     64BBY|         male|    Eriadu|         Human|\n",
      "|           Chewbacca|   228|  112|        brown|              NA|     blue|    200BBY|         male|  Kashyyyk|       Wookiee|\n",
      "|            Han Solo|   180|   80|        brown|            fair|    brown|     29BBY|         male|  Corellia|         Human|\n",
      "|              Greedo|   173|   74|           NA|           green|    black|     44BBY|         male|     Rodia|        Rodian|\n",
      "|Jabba Desilijic T...|   175|1,358|           NA|green-tan, brown|   orange|    600BBY|hermaphrodite| Nal Hutta|          Hutt|\n",
      "|      Wedge Antilles|   170|   77|        brown|            fair|    hazel|     21BBY|         male|  Corellia|         Human|\n",
      "|    Jek Tono Porkins|   180|  110|        brown|            fair|     blue|        NA|         male|Bestine IV|         Human|\n",
      "|                Yoda|    66|   17|        white|           green|    brown|    896BBY|         male|        NA|Yoda's species|\n",
      "|           Palpatine|   170|   75|         grey|            pale|   yellow|     82BBY|         male|     Naboo|         Human|\n",
      "+--------------------+------+-----+-------------+----------------+---------+----------+-------------+----------+--------------+\n",
      "only showing top 20 rows\n",
      "\n"
     ]
    }
   ],
   "source": [
    "df = spark.read.csv(\"./characters.csv\", header=True)\n",
    "df.printSchema()\n",
    "df.show()"
   ]
  },
  {
   "cell_type": "markdown",
   "metadata": {},
   "source": [
    "## Seleccionar los personajes que no sean hombres o mujeres"
   ]
  },
  {
   "cell_type": "markdown",
   "metadata": {},
   "source": [
    "### Usando una consulta SQL \"en crudo\""
   ]
  },
  {
   "cell_type": "code",
   "execution_count": 4,
   "metadata": {},
   "outputs": [
    {
     "name": "stdout",
     "output_type": "stream",
     "text": [
      "root\n",
      " |-- name: string (nullable = true)\n",
      " |-- height: string (nullable = true)\n",
      " |-- mass: string (nullable = true)\n",
      " |-- hair_color: string (nullable = true)\n",
      " |-- skin_color: string (nullable = true)\n",
      " |-- eye_color: string (nullable = true)\n",
      " |-- birth_year: string (nullable = true)\n",
      " |-- gender: string (nullable = true)\n",
      " |-- homeworld: string (nullable = true)\n",
      " |-- species: string (nullable = true)\n",
      "\n",
      "+--------------------+------+-----+----------+----------------+---------+----------+-------------+---------+-------+\n",
      "|                name|height| mass|hair_color|      skin_color|eye_color|birth_year|       gender|homeworld|species|\n",
      "+--------------------+------+-----+----------+----------------+---------+----------+-------------+---------+-------+\n",
      "|Jabba Desilijic T...|   175|1,358|        NA|green-tan, brown|   orange|    600BBY|hermaphrodite|Nal Hutta|   Hutt|\n",
      "|               IG-88|   200|  140|      none|           metal|      red|     15BBY|         none|       NA|  Droid|\n",
      "|               R2-D2|    96|   32|        NA|     white, blue|      red|     33BBY|           NA|    Naboo|  Droid|\n",
      "|               R5-D4|    97|   32|        NA|      white, red|      red|        NA|           NA| Tatooine|  Droid|\n",
      "|               C-3PO|   167|   75|        NA|            gold|   yellow|    112BBY|           NA| Tatooine|  Droid|\n",
      "|                 BB8|    NA|   NA|      none|            none|    black|        NA|         none|       NA|  Droid|\n",
      "+--------------------+------+-----+----------+----------------+---------+----------+-------------+---------+-------+\n",
      "\n"
     ]
    }
   ],
   "source": [
    "df.createOrReplaceTempView(\"Personajes\")\n",
    "df2 = spark.sql(\"SELECT * FROM Personajes WHERE gender NOT LIKE '%male' ORDER BY mass\")\n",
    "df2.printSchema()\n",
    "df2.show()"
   ]
  },
  {
   "cell_type": "markdown",
   "metadata": {},
   "source": [
    "### Usando funciones de SparkSQL"
   ]
  },
  {
   "cell_type": "code",
   "execution_count": 5,
   "metadata": {},
   "outputs": [
    {
     "name": "stdout",
     "output_type": "stream",
     "text": [
      "root\n",
      " |-- name: string (nullable = true)\n",
      "\n",
      "+--------------------+\n",
      "|                name|\n",
      "+--------------------+\n",
      "|               C-3PO|\n",
      "|               R2-D2|\n",
      "|               R5-D4|\n",
      "|Jabba Desilijic T...|\n",
      "|               IG-88|\n",
      "|                 BB8|\n",
      "+--------------------+\n",
      "\n"
     ]
    }
   ],
   "source": [
    "df2 = df.select(df.name).where(~df.gender.isin(\"male\", \"female\"))\n",
    "df2.printSchema()\n",
    "df2.show()"
   ]
  },
  {
   "cell_type": "markdown",
   "metadata": {},
   "source": [
    "## Seleccionar personajes de un planeta determinado"
   ]
  },
  {
   "cell_type": "markdown",
   "metadata": {},
   "source": [
    "### Usando una consulta SQL \"en crudo\""
   ]
  },
  {
   "cell_type": "code",
   "execution_count": 6,
   "metadata": {},
   "outputs": [
    {
     "name": "stdout",
     "output_type": "stream",
     "text": [
      "root\n",
      " |-- name: string (nullable = true)\n",
      "\n",
      "+-------------+\n",
      "|         name|\n",
      "+-------------+\n",
      "|        R2-D2|\n",
      "|    Palpatine|\n",
      "|Jar Jar Binks|\n",
      "| Roos Tarpals|\n",
      "|   Rugor Nass|\n",
      "|     Ric Olié|\n",
      "|Quarsh Panaka|\n",
      "| Gregar Typho|\n",
      "|        Cordé|\n",
      "|        Dormé|\n",
      "|Padmé Amidala|\n",
      "+-------------+\n",
      "\n"
     ]
    }
   ],
   "source": [
    "df2 = spark.sql(\"SELECT name FROM Personajes WHERE homeworld LIKE 'Naboo'\")\n",
    "df2.printSchema()\n",
    "df2.show()"
   ]
  },
  {
   "cell_type": "markdown",
   "metadata": {},
   "source": [
    "### Usando funciones de SparkSQL"
   ]
  },
  {
   "cell_type": "code",
   "execution_count": 7,
   "metadata": {},
   "outputs": [
    {
     "name": "stdout",
     "output_type": "stream",
     "text": [
      "root\n",
      " |-- name: string (nullable = true)\n",
      "\n",
      "+-------------+\n",
      "|         name|\n",
      "+-------------+\n",
      "|        R2-D2|\n",
      "|    Palpatine|\n",
      "|Jar Jar Binks|\n",
      "| Roos Tarpals|\n",
      "|   Rugor Nass|\n",
      "|     Ric Olié|\n",
      "|Quarsh Panaka|\n",
      "| Gregar Typho|\n",
      "|        Cordé|\n",
      "|        Dormé|\n",
      "|Padmé Amidala|\n",
      "+-------------+\n",
      "\n"
     ]
    }
   ],
   "source": [
    "df2 = df.select(df.name).filter(df.homeworld == 'Naboo')\n",
    "df2.printSchema()\n",
    "df2.show()"
   ]
  },
  {
   "cell_type": "markdown",
   "metadata": {},
   "source": [
    "## Agregaciones"
   ]
  },
  {
   "cell_type": "markdown",
   "metadata": {},
   "source": [
    "### Número de personajes originarios de cada planeta"
   ]
  },
  {
   "cell_type": "code",
   "execution_count": 8,
   "metadata": {},
   "outputs": [
    {
     "name": "stdout",
     "output_type": "stream",
     "text": [
      "+-----------+-----+\n",
      "|  homeworld|count|\n",
      "+-----------+-----+\n",
      "|      Naboo|   11|\n",
      "|         NA|   10|\n",
      "|   Tatooine|   10|\n",
      "|  Coruscant|    3|\n",
      "|   Alderaan|    3|\n",
      "|     Kamino|    3|\n",
      "|   Kashyyyk|    2|\n",
      "|   Corellia|    2|\n",
      "|     Ryloth|    2|\n",
      "|     Mirial|    2|\n",
      "|  Chandrila|    1|\n",
      "|    Iktotch|    1|\n",
      "|     Utapau|    1|\n",
      "|Aleen Minor|    1|\n",
      "|    Serenno|    1|\n",
      "|      Shili|    1|\n",
      "| Haruun Kal|    1|\n",
      "|      Endor|    1|\n",
      "|   Mon Cala|    1|\n",
      "|   Champala|    1|\n",
      "+-----------+-----+\n",
      "only showing top 20 rows\n",
      "\n"
     ]
    },
    {
     "name": "stderr",
     "output_type": "stream",
     "text": [
      "                                                                                \r"
     ]
    }
   ],
   "source": [
    "df3 = df.select(df.name, df.homeworld).groupBy(df.homeworld).count()\n",
    "df3.orderBy(\"count\", ascending=False).show()\n"
   ]
  },
  {
   "cell_type": "markdown",
   "metadata": {},
   "source": [
    "### Número de especies originarias de cada planeta"
   ]
  },
  {
   "cell_type": "code",
   "execution_count": 9,
   "metadata": {},
   "outputs": [
    {
     "name": "stdout",
     "output_type": "stream",
     "text": [
      "+--------------+----------+-----+\n",
      "|     homeworld|   species|count|\n",
      "+--------------+----------+-----+\n",
      "|      Alderaan|     Human|    3|\n",
      "|   Aleen Minor|    Aleena|    1|\n",
      "|        Bespin|     Human|    1|\n",
      "|    Bestine IV|     Human|    1|\n",
      "|Cato Neimoidia| Neimodian|    1|\n",
      "|         Cerea|    Cerean|    1|\n",
      "|      Champala|  Chagrian|    1|\n",
      "|     Chandrila|     Human|    1|\n",
      "|  Concord Dawn|     Human|    1|\n",
      "|      Corellia|     Human|    2|\n",
      "|     Coruscant|     Human|    2|\n",
      "|     Coruscant|Tholothian|    1|\n",
      "|      Dathomir|    Zabrak|    1|\n",
      "|         Dorin|   Kel Dor|    1|\n",
      "|         Endor|      Ewok|    1|\n",
      "|        Eriadu|     Human|    1|\n",
      "|      Geonosis| Geonosian|    1|\n",
      "|   Glee Anselm|  Nautolan|    1|\n",
      "|    Haruun Kal|     Human|    1|\n",
      "|       Iktotch|  Iktotchi|    1|\n",
      "+--------------+----------+-----+\n",
      "only showing top 20 rows\n",
      "\n"
     ]
    }
   ],
   "source": [
    "df3 = df.select(df.species, df.homeworld).groupBy(df.homeworld, df.species).count()\n",
    "df3.orderBy(\"homeworld\",\"count\", ascending=[True,False]).show()"
   ]
  },
  {
   "cell_type": "markdown",
   "metadata": {},
   "source": [
    "## Manejo de RDDs"
   ]
  },
  {
   "cell_type": "markdown",
   "metadata": {
    "tags": []
   },
   "source": [
    "### Obtener RDD con nombres y alturas de personajes"
   ]
  },
  {
   "cell_type": "code",
   "execution_count": 10,
   "metadata": {},
   "outputs": [
    {
     "name": "stdout",
     "output_type": "stream",
     "text": [
      "[Row(name='Luke Skywalker', height='172'), Row(name='C-3PO', height='167'), Row(name='R2-D2', height='96'), Row(name='Darth Vader', height='202'), Row(name='Leia Organa', height='150'), Row(name='Owen Lars', height='178'), Row(name='Beru Whitesun lars', height='165'), Row(name='R5-D4', height='97'), Row(name='Biggs Darklighter', height='183'), Row(name='Obi-Wan Kenobi', height='182'), Row(name='Anakin Skywalker', height='188'), Row(name='Wilhuff Tarkin', height='180'), Row(name='Chewbacca', height='228'), Row(name='Han Solo', height='180'), Row(name='Greedo', height='173'), Row(name='Jabba Desilijic Tiure', height='175'), Row(name='Wedge Antilles', height='170'), Row(name='Jek Tono Porkins', height='180'), Row(name='Yoda', height='66'), Row(name='Palpatine', height='170')]\n",
      "[('Luke Skywalker', 172), ('C-3PO', 167), ('R2-D2', 96), ('Darth Vader', 202), ('Leia Organa', 150), ('Owen Lars', 178), ('Beru Whitesun lars', 165), ('R5-D4', 97), ('Biggs Darklighter', 183), ('Obi-Wan Kenobi', 182), ('Anakin Skywalker', 188), ('Wilhuff Tarkin', 180), ('Chewbacca', 228), ('Han Solo', 180), ('Greedo', 173), ('Jabba Desilijic Tiure', 175), ('Wedge Antilles', 170), ('Jek Tono Porkins', 180), ('Yoda', 66), ('Palpatine', 170)]\n"
     ]
    }
   ],
   "source": [
    "rdd= df.select(df.name, df.height).rdd\n",
    "print(rdd.take(20))\n",
    "\n",
    "rdd2 = rdd.filter(lambda x:x[1]!=\"NA\").map(lambda x: (x[0], int(x[1])))\n",
    "print(rdd2.take(20))"
   ]
  },
  {
   "cell_type": "markdown",
   "metadata": {},
   "source": [
    "### Media de estatura de los personajes"
   ]
  },
  {
   "cell_type": "code",
   "execution_count": 11,
   "metadata": {},
   "outputs": [
    {
     "data": {
      "text/plain": [
       "174.35802469135803"
      ]
     },
     "execution_count": 11,
     "metadata": {},
     "output_type": "execute_result"
    }
   ],
   "source": [
    "rdd2.map(lambda x: x[1]).mean()"
   ]
  },
  {
   "cell_type": "markdown",
   "metadata": {},
   "source": [
    "### Estatura máxima de los personajes"
   ]
  },
  {
   "cell_type": "code",
   "execution_count": 12,
   "metadata": {
    "tags": []
   },
   "outputs": [
    {
     "data": {
      "text/plain": [
       "264"
      ]
     },
     "execution_count": 12,
     "metadata": {},
     "output_type": "execute_result"
    }
   ],
   "source": [
    "rdd2.map(lambda x: x[1]).max()"
   ]
  },
  {
   "cell_type": "code",
   "execution_count": 18,
   "metadata": {},
   "outputs": [
    {
     "data": {
      "text/plain": [
       "6"
      ]
     },
     "execution_count": 18,
     "metadata": {},
     "output_type": "execute_result"
    }
   ],
   "source": [
    "df.select(df.name).where(df.height=='NA').count()"
   ]
  },
  {
   "cell_type": "markdown",
   "metadata": {},
   "source": [
    "## Inferencia de tipos en DataFrames con PySpark"
   ]
  },
  {
   "cell_type": "markdown",
   "metadata": {
    "tags": []
   },
   "source": [
    "### Primero vamos a hacer un ligero preprocesado del dataset original, para que nos sirva de ejemplo"
   ]
  },
  {
   "cell_type": "code",
   "execution_count": 27,
   "metadata": {},
   "outputs": [],
   "source": [
    "from pyspark.sql.functions import when,regexp_replace\n",
    "\n",
    "df_edit = df.withColumn('height', \n",
    "    when(df.height=='NA',regexp_replace(df.height,'NA','-1')).otherwise(df.height))\n",
    "\n",
    "df_edit.write.option(\"header\",True).csv(\"characters_edit\")"
   ]
  },
  {
   "cell_type": "markdown",
   "metadata": {},
   "source": [
    "#### Pregunta: ¿Qué hemos hecho?"
   ]
  },
  {
   "cell_type": "markdown",
   "metadata": {},
   "source": [
    "### Ahora lo cargamos y trabajamos con él... pero infiriendo el tipo de las columnas:"
   ]
  },
  {
   "cell_type": "code",
   "execution_count": 28,
   "metadata": {},
   "outputs": [
    {
     "name": "stdout",
     "output_type": "stream",
     "text": [
      "root\n",
      " |-- name: string (nullable = true)\n",
      " |-- height: integer (nullable = true)\n",
      " |-- mass: string (nullable = true)\n",
      " |-- hair_color: string (nullable = true)\n",
      " |-- skin_color: string (nullable = true)\n",
      " |-- eye_color: string (nullable = true)\n",
      " |-- birth_year: string (nullable = true)\n",
      " |-- gender: string (nullable = true)\n",
      " |-- homeworld: string (nullable = true)\n",
      " |-- species: string (nullable = true)\n",
      "\n",
      "+--------------------+------+-----+-------------+----------------+---------+----------+-------------+----------+--------------+\n",
      "|                name|height| mass|   hair_color|      skin_color|eye_color|birth_year|       gender| homeworld|       species|\n",
      "+--------------------+------+-----+-------------+----------------+---------+----------+-------------+----------+--------------+\n",
      "|      Luke Skywalker|   172|   77|        blond|            fair|     blue|     19BBY|         male|  Tatooine|         Human|\n",
      "|               C-3PO|   167|   75|           NA|            gold|   yellow|    112BBY|           NA|  Tatooine|         Droid|\n",
      "|               R2-D2|    96|   32|           NA|     white, blue|      red|     33BBY|           NA|     Naboo|         Droid|\n",
      "|         Darth Vader|   202|  136|         none|           white|   yellow|   41.9BBY|         male|  Tatooine|         Human|\n",
      "|         Leia Organa|   150|   49|        brown|           light|    brown|     19BBY|       female|  Alderaan|         Human|\n",
      "|           Owen Lars|   178|  120|  brown, grey|           light|     blue|     52BBY|         male|  Tatooine|         Human|\n",
      "|  Beru Whitesun lars|   165|   75|        brown|           light|     blue|     47BBY|       female|  Tatooine|         Human|\n",
      "|               R5-D4|    97|   32|           NA|      white, red|      red|        NA|           NA|  Tatooine|         Droid|\n",
      "|   Biggs Darklighter|   183|   84|        black|           light|    brown|     24BBY|         male|  Tatooine|         Human|\n",
      "|      Obi-Wan Kenobi|   182|   77|auburn, white|            fair|blue-gray|     57BBY|         male|   Stewjon|         Human|\n",
      "|    Anakin Skywalker|   188|   84|        blond|            fair|     blue|   41.9BBY|         male|  Tatooine|         Human|\n",
      "|      Wilhuff Tarkin|   180|   NA| auburn, grey|            fair|     blue|     64BBY|         male|    Eriadu|         Human|\n",
      "|           Chewbacca|   228|  112|        brown|              NA|     blue|    200BBY|         male|  Kashyyyk|       Wookiee|\n",
      "|            Han Solo|   180|   80|        brown|            fair|    brown|     29BBY|         male|  Corellia|         Human|\n",
      "|              Greedo|   173|   74|           NA|           green|    black|     44BBY|         male|     Rodia|        Rodian|\n",
      "|Jabba Desilijic T...|   175|1,358|           NA|green-tan, brown|   orange|    600BBY|hermaphrodite| Nal Hutta|          Hutt|\n",
      "|      Wedge Antilles|   170|   77|        brown|            fair|    hazel|     21BBY|         male|  Corellia|         Human|\n",
      "|    Jek Tono Porkins|   180|  110|        brown|            fair|     blue|        NA|         male|Bestine IV|         Human|\n",
      "|                Yoda|    66|   17|        white|           green|    brown|    896BBY|         male|        NA|Yoda's species|\n",
      "|           Palpatine|   170|   75|         grey|            pale|   yellow|     82BBY|         male|     Naboo|         Human|\n",
      "+--------------------+------+-----+-------------+----------------+---------+----------+-------------+----------+--------------+\n",
      "only showing top 20 rows\n",
      "\n"
     ]
    }
   ],
   "source": [
    "df = spark.read.csv(\"./characters_edit/*\", header=True, inferSchema=True)\n",
    "df.printSchema()\n",
    "df.show()"
   ]
  }
 ],
 "metadata": {
  "kernelspec": {
   "display_name": "Python 3 (ipykernel)",
   "language": "python",
   "name": "python3"
  },
  "language_info": {
   "codemirror_mode": {
    "name": "ipython",
    "version": 3
   },
   "file_extension": ".py",
   "mimetype": "text/x-python",
   "name": "python",
   "nbconvert_exporter": "python",
   "pygments_lexer": "ipython3",
   "version": "3.8.10"
  }
 },
 "nbformat": 4,
 "nbformat_minor": 4
}
